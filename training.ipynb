{
 "cells": [
  {
   "cell_type": "code",
   "execution_count": 1,
   "metadata": {},
   "outputs": [],
   "source": [
    "import nn_learn"
   ]
  },
  {
   "cell_type": "code",
   "execution_count": 2,
   "metadata": {},
   "outputs": [],
   "source": [
    "import pickle\n",
    "dat = pickle.load(open(\"data/TrainingData/pickled_generated_sets\",'rb'))\n",
    "pca_dat = pickle.load(open(\"data/TrainingData/pickled_generated_sets_pca\",'rb'))"
   ]
  },
  {
   "cell_type": "code",
   "execution_count": 3,
   "metadata": {},
   "outputs": [
    {
     "data": {
      "text/plain": [
       "(12278,)"
      ]
     },
     "execution_count": 3,
     "metadata": {},
     "output_type": "execute_result"
    }
   ],
   "source": [
    "pca_dat['train_labels'].shape"
   ]
  },
  {
   "cell_type": "code",
   "execution_count": 4,
   "metadata": {},
   "outputs": [],
   "source": [
    "neural_net1_pca = {\n",
    "    \"num_features\": 12,\n",
    "    \"num_labels\": 8,\n",
    "    \"num_layers\": 3,\n",
    "    \"num_neurons\": [256, 256, 256],\n",
    "    \"use_dropout\": True,\n",
    "    \"model_name\": \"model_pca_3_layers_256\",\n",
    "    \"learning_rate\": 0.1,\n",
    "    \"learning_rate_decay\":0.96\n",
    "}"
   ]
  },
  {
   "cell_type": "code",
   "execution_count": 5,
   "metadata": {},
   "outputs": [],
   "source": [
    "NN_3L_256_256_256 = nn_learn.NeuralNetwork(neural_net1_pca)"
   ]
  },
  {
   "cell_type": "code",
   "execution_count": null,
   "metadata": {},
   "outputs": [
    {
     "name": "stdout",
     "output_type": "stream",
     "text": [
      "Training Step: 548  | total loss: \u001b[1m\u001b[32m1.51852\u001b[0m\u001b[0m | time: 0.984s\n",
      "\u001b[2K\r",
      "| SGD | epoch: 003 | loss: 1.51852 - top3: 0.7818 -- iter: 10496/12278\n"
     ]
    }
   ],
   "source": [
    "NN_3L_256_256_256.train(pca_dat[\"train_data\"], pca_dat[\"train_labels\"],pca_dat[\"valid_data\"],pca_dat[\"valid_labels\"], 1000)"
   ]
  },
  {
   "cell_type": "code",
   "execution_count": null,
   "metadata": {},
   "outputs": [],
   "source": [
    "pca_dat"
   ]
  },
  {
   "cell_type": "code",
   "execution_count": null,
   "metadata": {},
   "outputs": [],
   "source": []
  }
 ],
 "metadata": {
  "kernelspec": {
   "display_name": "Python 3",
   "language": "python",
   "name": "python3"
  },
  "language_info": {
   "codemirror_mode": {
    "name": "ipython",
    "version": 3
   },
   "file_extension": ".py",
   "mimetype": "text/x-python",
   "name": "python",
   "nbconvert_exporter": "python",
   "pygments_lexer": "ipython3",
   "version": "3.6.1"
  }
 },
 "nbformat": 4,
 "nbformat_minor": 2
}
